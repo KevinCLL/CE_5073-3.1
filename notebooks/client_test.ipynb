{
 "cells": [
  {
   "cell_type": "code",
   "execution_count": 1,
   "metadata": {},
   "outputs": [
    {
     "name": "stdout",
     "output_type": "stream",
     "text": [
      "POST to http://127.0.0.1:8000/predict_lr with data={'island': 'Biscoe', 'sex': 'male', 'bill_length_mm': 45.2, 'bill_depth_mm': 13.8, 'flipper_length_mm': 210, 'body_mass_g': 4500}\n",
      "Response: {'model': 'LogisticRegression', 'prediction': 2}\n",
      "---\n",
      "POST to http://127.0.0.1:8000/predict_lr with data={'island': 'Dream', 'sex': 'female', 'bill_length_mm': 38.1, 'bill_depth_mm': 18.3, 'flipper_length_mm': 192, 'body_mass_g': 3300}\n",
      "Response: {'model': 'LogisticRegression', 'prediction': 0}\n",
      "---\n",
      "POST to http://127.0.0.1:8000/predict_svm with data={'island': 'Biscoe', 'sex': 'male', 'bill_length_mm': 45.2, 'bill_depth_mm': 13.8, 'flipper_length_mm': 210, 'body_mass_g': 4500}\n",
      "Response: {'model': 'SVM', 'prediction': 2}\n",
      "---\n",
      "POST to http://127.0.0.1:8000/predict_svm with data={'island': 'Dream', 'sex': 'female', 'bill_length_mm': 38.1, 'bill_depth_mm': 18.3, 'flipper_length_mm': 192, 'body_mass_g': 3300}\n",
      "Response: {'model': 'SVM', 'prediction': 0}\n",
      "---\n",
      "POST to http://127.0.0.1:8000/predict_dt with data={'island': 'Biscoe', 'sex': 'male', 'bill_length_mm': 45.2, 'bill_depth_mm': 13.8, 'flipper_length_mm': 210, 'body_mass_g': 4500}\n",
      "Response: {'model': 'DecisionTree', 'prediction': 2}\n",
      "---\n",
      "POST to http://127.0.0.1:8000/predict_dt with data={'island': 'Dream', 'sex': 'female', 'bill_length_mm': 38.1, 'bill_depth_mm': 18.3, 'flipper_length_mm': 192, 'body_mass_g': 3300}\n",
      "Response: {'model': 'DecisionTree', 'prediction': 0}\n",
      "---\n",
      "POST to http://127.0.0.1:8000/predict_knn with data={'island': 'Biscoe', 'sex': 'male', 'bill_length_mm': 45.2, 'bill_depth_mm': 13.8, 'flipper_length_mm': 210, 'body_mass_g': 4500}\n",
      "Response: {'model': 'KNN', 'prediction': 2}\n",
      "---\n",
      "POST to http://127.0.0.1:8000/predict_knn with data={'island': 'Dream', 'sex': 'female', 'bill_length_mm': 38.1, 'bill_depth_mm': 18.3, 'flipper_length_mm': 192, 'body_mass_g': 3300}\n",
      "Response: {'model': 'KNN', 'prediction': 0}\n",
      "---\n"
     ]
    }
   ],
   "source": [
    "import requests\n",
    "\n",
    "URL_LR = \"http://127.0.0.1:8000/predict_lr\"\n",
    "URL_SVM = \"http://127.0.0.1:8000/predict_svm\"\n",
    "URL_DT = \"http://127.0.0.1:8000/predict_dt\"\n",
    "URL_KNN = \"http://127.0.0.1:8000/predict_knn\"\n",
    "\n",
    "penguin_a = {\n",
    "    \"island\": \"Biscoe\",\n",
    "    \"sex\": \"male\",\n",
    "    \"bill_length_mm\": 45.2,\n",
    "    \"bill_depth_mm\": 13.8,\n",
    "    \"flipper_length_mm\": 210,\n",
    "    \"body_mass_g\": 4500\n",
    "}\n",
    "\n",
    "penguin_b = {\n",
    "    \"island\": \"Dream\",\n",
    "    \"sex\": \"female\",\n",
    "    \"bill_length_mm\": 38.1,\n",
    "    \"bill_depth_mm\": 18.3,\n",
    "    \"flipper_length_mm\": 192,\n",
    "    \"body_mass_g\": 3300\n",
    "}\n",
    "\n",
    "for model_url in [URL_LR, URL_SVM, URL_DT, URL_KNN]:\n",
    "    for p in [penguin_a, penguin_b]:\n",
    "        resp = requests.post(model_url, json=p)\n",
    "        print(f\"POST to {model_url} with data={p}\")\n",
    "        print(\"Response:\", resp.json())\n",
    "        print(\"---\")"
   ]
  }
 ],
 "metadata": {
  "kernelspec": {
   "display_name": "Python 3",
   "language": "python",
   "name": "python3"
  },
  "language_info": {
   "codemirror_mode": {
    "name": "ipython",
    "version": 3
   },
   "file_extension": ".py",
   "mimetype": "text/x-python",
   "name": "python",
   "nbconvert_exporter": "python",
   "pygments_lexer": "ipython3",
   "version": "3.11.6"
  }
 },
 "nbformat": 4,
 "nbformat_minor": 2
}
